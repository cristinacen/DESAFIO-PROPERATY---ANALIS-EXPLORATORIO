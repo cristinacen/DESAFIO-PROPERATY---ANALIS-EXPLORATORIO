{
 "cells": [
  {
   "cell_type": "markdown",
   "id": "every-double",
   "metadata": {},
   "source": [
    "# Datos barrios Capital Federal y Geopandas\n",
    "\n",
    "---"
   ]
  },
  {
   "cell_type": "markdown",
   "id": "sonic-tuition",
   "metadata": {},
   "source": [
    "<a id=\"toc\"></a> \n",
    "## Tabla de Contenidos\n",
    "\n",
    "[Resumen](#section_resumen)\n",
    "\n",
    "[Imports](#imports)\n",
    "\n",
    "[Dataset y máscara](#section_dataset_y_máscara)\n",
    "\n",
    "[Diccionario](#diccionario)\n",
    "\n",
    "[Valores incompletos](#incompletos)\n",
    "\n",
    "[Geodatos CABA](#geo_caba)\n",
    "\n",
    "[Unificar](#unificar)\n",
    "\n",
    "[Recategorizar nuevos barrios](#recategorizar)\n",
    "\n",
    "[Verificación](#verificacion)\n",
    "\n",
    "[Columna \"geometry\"](#geometry)\n",
    "\n",
    "[Exportación de la base](#exportacion)"
   ]
  },
  {
   "cell_type": "markdown",
   "id": "sacred-windows",
   "metadata": {},
   "source": [
    "<a id=\"section_resumen\"></a> \n",
    "## Resumen\n",
    "\n",
    "[volver a TOC](#toc)\n",
    "\n",
    "El Data Frame original de Properatti cuenta con aproximadamente 32 mil valores dentro de la Capital Federal. \n",
    "La columna \"place_name\" muestra los barrios de las propiedades. Para los valores de CABA, decidimos ordenar esa columna.\n",
    "\n",
    "1.297 valores no especificaban a cuál barrio de la Ciudad pertenecían. La mitad de esta cifra, contaba con geo datos.\n",
    "Con esa información, conseguimos identificar el barrio de más de 600 propiedades.\n",
    "\n",
    "Por otro lado, ajustamos las categorías de la columna \"place_name\" de manera coincidente con los 48 barrios reconocidos \\\n",
    "por la Ciudad de Buenos Aires. De este modo, será más sencillo cruzar la base con datos externos de la Ciudad.\n",
    "\n",
    "Finalmente, generamos la columna \"geometry\" conteniendo todos los puntos de las propiedades que poseen geodatos, permitiéndonos ubicarlos en el mapa."
   ]
  },
  {
   "cell_type": "markdown",
   "id": "committed-label",
   "metadata": {},
   "source": [
    "---\n",
    "\n",
    "<a id=\"imports\"></a> \n",
    "## Imports \n",
    "\n",
    "[volver a TOC](#toc)"
   ]
  },
  {
   "cell_type": "code",
   "execution_count": 3,
   "id": "industrial-exception",
   "metadata": {},
   "outputs": [],
   "source": [
    "import pandas as pd\n",
    "import numpy as np\n",
    "import geopandas as gpd\n",
    "import matplotlib.pyplot as plt\n",
    "import descartes\n",
    "import pyproj"
   ]
  },
  {
   "cell_type": "markdown",
   "id": "incorrect-watts",
   "metadata": {},
   "source": [
    "---\n",
    "\n",
    "<a id=\"section_dataset_y_máscara\"></a> \n",
    "## Dataset y máscara\n",
    "\n",
    "[volver a TOC](#toc)\n",
    "\n"
   ]
  },
  {
   "cell_type": "markdown",
   "id": "mathematical-scottish",
   "metadata": {},
   "source": [
    "Importo los datos de Properatti e importo una base de CABA para extraer los nombres de los barrios oficiales."
   ]
  },
  {
   "cell_type": "code",
   "execution_count": 4,
   "id": "amber-liberty",
   "metadata": {},
   "outputs": [],
   "source": [
    "location = \"../Desafío 1/properatti.csv\"\n",
    "data = pd.read_csv(location)\n",
    "\n",
    "location_delitos = \"../Desafío 1/caba_delitos_2019.csv\"\n",
    "data_delitos = pd.read_csv(location_delitos, low_memory = False)"
   ]
  },
  {
   "cell_type": "markdown",
   "id": "herbal-stranger",
   "metadata": {},
   "source": [
    "Chequeo ambas bases"
   ]
  },
  {
   "cell_type": "code",
   "execution_count": 5,
   "id": "proved-balance",
   "metadata": {},
   "outputs": [
    {
     "data": {
      "text/html": [
       "<div>\n",
       "<style scoped>\n",
       "    .dataframe tbody tr th:only-of-type {\n",
       "        vertical-align: middle;\n",
       "    }\n",
       "\n",
       "    .dataframe tbody tr th {\n",
       "        vertical-align: top;\n",
       "    }\n",
       "\n",
       "    .dataframe thead th {\n",
       "        text-align: right;\n",
       "    }\n",
       "</style>\n",
       "<table border=\"1\" class=\"dataframe\">\n",
       "  <thead>\n",
       "    <tr style=\"text-align: right;\">\n",
       "      <th></th>\n",
       "      <th>Unnamed: 0</th>\n",
       "      <th>operation</th>\n",
       "      <th>property_type</th>\n",
       "      <th>place_name</th>\n",
       "      <th>place_with_parent_names</th>\n",
       "      <th>country_name</th>\n",
       "      <th>state_name</th>\n",
       "      <th>geonames_id</th>\n",
       "      <th>lat-lon</th>\n",
       "      <th>lat</th>\n",
       "      <th>...</th>\n",
       "      <th>surface_covered_in_m2</th>\n",
       "      <th>price_usd_per_m2</th>\n",
       "      <th>price_per_m2</th>\n",
       "      <th>floor</th>\n",
       "      <th>rooms</th>\n",
       "      <th>expenses</th>\n",
       "      <th>properati_url</th>\n",
       "      <th>description</th>\n",
       "      <th>title</th>\n",
       "      <th>image_thumbnail</th>\n",
       "    </tr>\n",
       "  </thead>\n",
       "  <tbody>\n",
       "    <tr>\n",
       "      <th>0</th>\n",
       "      <td>0</td>\n",
       "      <td>sell</td>\n",
       "      <td>PH</td>\n",
       "      <td>Mataderos</td>\n",
       "      <td>|Argentina|Capital Federal|Mataderos|</td>\n",
       "      <td>Argentina</td>\n",
       "      <td>Capital Federal</td>\n",
       "      <td>3430787.0</td>\n",
       "      <td>-34.6618237,-58.5088387</td>\n",
       "      <td>-34.661824</td>\n",
       "      <td>...</td>\n",
       "      <td>40.0</td>\n",
       "      <td>1127.272727</td>\n",
       "      <td>1550.0</td>\n",
       "      <td>NaN</td>\n",
       "      <td>NaN</td>\n",
       "      <td>NaN</td>\n",
       "      <td>http://www.properati.com.ar/15bo8_venta_ph_mat...</td>\n",
       "      <td>2 AMBIENTES TIPO CASA PLANTA BAJA POR PASILLO,...</td>\n",
       "      <td>2 AMB TIPO CASA SIN EXPENSAS EN PB</td>\n",
       "      <td>https://thumbs4.properati.com/8/BluUYiHJLhgIIK...</td>\n",
       "    </tr>\n",
       "    <tr>\n",
       "      <th>1</th>\n",
       "      <td>1</td>\n",
       "      <td>sell</td>\n",
       "      <td>apartment</td>\n",
       "      <td>La Plata</td>\n",
       "      <td>|Argentina|Bs.As. G.B.A. Zona Sur|La Plata|</td>\n",
       "      <td>Argentina</td>\n",
       "      <td>Bs.As. G.B.A. Zona Sur</td>\n",
       "      <td>3432039.0</td>\n",
       "      <td>-34.9038831,-57.9643295</td>\n",
       "      <td>-34.903883</td>\n",
       "      <td>...</td>\n",
       "      <td>NaN</td>\n",
       "      <td>NaN</td>\n",
       "      <td>NaN</td>\n",
       "      <td>NaN</td>\n",
       "      <td>NaN</td>\n",
       "      <td>NaN</td>\n",
       "      <td>http://www.properati.com.ar/15bob_venta_depart...</td>\n",
       "      <td>Venta de departamento en décimo piso al frente...</td>\n",
       "      <td>VENTA Depto 2 dorm. a estrenar 7 e/ 36 y 37   ...</td>\n",
       "      <td>https://thumbs4.properati.com/7/ikpVBu2ztHA7jv...</td>\n",
       "    </tr>\n",
       "  </tbody>\n",
       "</table>\n",
       "<p>2 rows × 26 columns</p>\n",
       "</div>"
      ],
      "text/plain": [
       "   Unnamed: 0 operation property_type place_name  \\\n",
       "0           0      sell            PH  Mataderos   \n",
       "1           1      sell     apartment   La Plata   \n",
       "\n",
       "                       place_with_parent_names country_name  \\\n",
       "0        |Argentina|Capital Federal|Mataderos|    Argentina   \n",
       "1  |Argentina|Bs.As. G.B.A. Zona Sur|La Plata|    Argentina   \n",
       "\n",
       "               state_name  geonames_id                  lat-lon        lat  \\\n",
       "0         Capital Federal    3430787.0  -34.6618237,-58.5088387 -34.661824   \n",
       "1  Bs.As. G.B.A. Zona Sur    3432039.0  -34.9038831,-57.9643295 -34.903883   \n",
       "\n",
       "   ...  surface_covered_in_m2  price_usd_per_m2 price_per_m2  floor  rooms  \\\n",
       "0  ...                   40.0       1127.272727       1550.0    NaN    NaN   \n",
       "1  ...                    NaN               NaN          NaN    NaN    NaN   \n",
       "\n",
       "   expenses                                      properati_url  \\\n",
       "0       NaN  http://www.properati.com.ar/15bo8_venta_ph_mat...   \n",
       "1       NaN  http://www.properati.com.ar/15bob_venta_depart...   \n",
       "\n",
       "                                         description  \\\n",
       "0  2 AMBIENTES TIPO CASA PLANTA BAJA POR PASILLO,...   \n",
       "1  Venta de departamento en décimo piso al frente...   \n",
       "\n",
       "                                               title  \\\n",
       "0                 2 AMB TIPO CASA SIN EXPENSAS EN PB   \n",
       "1  VENTA Depto 2 dorm. a estrenar 7 e/ 36 y 37   ...   \n",
       "\n",
       "                                     image_thumbnail  \n",
       "0  https://thumbs4.properati.com/8/BluUYiHJLhgIIK...  \n",
       "1  https://thumbs4.properati.com/7/ikpVBu2ztHA7jv...  \n",
       "\n",
       "[2 rows x 26 columns]"
      ]
     },
     "execution_count": 5,
     "metadata": {},
     "output_type": "execute_result"
    }
   ],
   "source": [
    "data.head(2)"
   ]
  },
  {
   "cell_type": "code",
   "execution_count": 6,
   "id": "adjustable-gregory",
   "metadata": {},
   "outputs": [
    {
     "name": "stdout",
     "output_type": "stream",
     "text": [
      "<class 'pandas.core.frame.DataFrame'>\n",
      "RangeIndex: 121220 entries, 0 to 121219\n",
      "Data columns (total 26 columns):\n",
      " #   Column                      Non-Null Count   Dtype  \n",
      "---  ------                      --------------   -----  \n",
      " 0   Unnamed: 0                  121220 non-null  int64  \n",
      " 1   operation                   121220 non-null  object \n",
      " 2   property_type               121220 non-null  object \n",
      " 3   place_name                  121197 non-null  object \n",
      " 4   place_with_parent_names     121220 non-null  object \n",
      " 5   country_name                121220 non-null  object \n",
      " 6   state_name                  121220 non-null  object \n",
      " 7   geonames_id                 102503 non-null  float64\n",
      " 8   lat-lon                     69670 non-null   object \n",
      " 9   lat                         69670 non-null   float64\n",
      " 10  lon                         69670 non-null   float64\n",
      " 11  price                       100810 non-null  float64\n",
      " 12  currency                    100809 non-null  object \n",
      " 13  price_aprox_local_currency  100810 non-null  float64\n",
      " 14  price_aprox_usd             100810 non-null  float64\n",
      " 15  surface_total_in_m2         81892 non-null   float64\n",
      " 16  surface_covered_in_m2       101313 non-null  float64\n",
      " 17  price_usd_per_m2            68617 non-null   float64\n",
      " 18  price_per_m2                87658 non-null   float64\n",
      " 19  floor                       7899 non-null    float64\n",
      " 20  rooms                       47390 non-null   float64\n",
      " 21  expenses                    14262 non-null   float64\n",
      " 22  properati_url               121220 non-null  object \n",
      " 23  description                 121218 non-null  object \n",
      " 24  title                       121220 non-null  object \n",
      " 25  image_thumbnail             118108 non-null  object \n",
      "dtypes: float64(13), int64(1), object(12)\n",
      "memory usage: 24.0+ MB\n"
     ]
    }
   ],
   "source": [
    "data.info()"
   ]
  },
  {
   "cell_type": "code",
   "execution_count": 7,
   "id": "lyric-projector",
   "metadata": {},
   "outputs": [
    {
     "data": {
      "text/html": [
       "<div>\n",
       "<style scoped>\n",
       "    .dataframe tbody tr th:only-of-type {\n",
       "        vertical-align: middle;\n",
       "    }\n",
       "\n",
       "    .dataframe tbody tr th {\n",
       "        vertical-align: top;\n",
       "    }\n",
       "\n",
       "    .dataframe thead th {\n",
       "        text-align: right;\n",
       "    }\n",
       "</style>\n",
       "<table border=\"1\" class=\"dataframe\">\n",
       "  <thead>\n",
       "    <tr style=\"text-align: right;\">\n",
       "      <th></th>\n",
       "      <th>id</th>\n",
       "      <th>fecha</th>\n",
       "      <th>franja_horaria</th>\n",
       "      <th>tipo_delito</th>\n",
       "      <th>subtipo_delito</th>\n",
       "      <th>cantidad_registrada</th>\n",
       "      <th>comuna</th>\n",
       "      <th>barrio</th>\n",
       "      <th>lat</th>\n",
       "      <th>long</th>\n",
       "    </tr>\n",
       "  </thead>\n",
       "  <tbody>\n",
       "    <tr>\n",
       "      <th>0</th>\n",
       "      <td>1038983</td>\n",
       "      <td>13-09-19</td>\n",
       "      <td>14</td>\n",
       "      <td>Robo (con violencia)</td>\n",
       "      <td>NaN</td>\n",
       "      <td>NaN</td>\n",
       "      <td>6.0</td>\n",
       "      <td>Caballito</td>\n",
       "      <td>-34.609876</td>\n",
       "      <td>-58.456159</td>\n",
       "    </tr>\n",
       "    <tr>\n",
       "      <th>1</th>\n",
       "      <td>1038986</td>\n",
       "      <td>13-09-19</td>\n",
       "      <td>16</td>\n",
       "      <td>Robo (con violencia)</td>\n",
       "      <td>NaN</td>\n",
       "      <td>NaN</td>\n",
       "      <td>3.0</td>\n",
       "      <td>Balvanera</td>\n",
       "      <td>-34.609394</td>\n",
       "      <td>-58.395934</td>\n",
       "    </tr>\n",
       "  </tbody>\n",
       "</table>\n",
       "</div>"
      ],
      "text/plain": [
       "        id     fecha franja_horaria           tipo_delito subtipo_delito  \\\n",
       "0  1038983  13-09-19             14  Robo (con violencia)            NaN   \n",
       "1  1038986  13-09-19             16  Robo (con violencia)            NaN   \n",
       "\n",
       "   cantidad_registrada  comuna     barrio        lat       long  \n",
       "0                  NaN     6.0  Caballito -34.609876 -58.456159  \n",
       "1                  NaN     3.0  Balvanera -34.609394 -58.395934  "
      ]
     },
     "execution_count": 7,
     "metadata": {},
     "output_type": "execute_result"
    }
   ],
   "source": [
    "data_delitos.head(2)"
   ]
  },
  {
   "cell_type": "code",
   "execution_count": 8,
   "id": "electrical-ballet",
   "metadata": {},
   "outputs": [
    {
     "name": "stdout",
     "output_type": "stream",
     "text": [
      "<class 'pandas.core.frame.DataFrame'>\n",
      "RangeIndex: 122484 entries, 0 to 122483\n",
      "Data columns (total 10 columns):\n",
      " #   Column               Non-Null Count   Dtype  \n",
      "---  ------               --------------   -----  \n",
      " 0   id                   122484 non-null  int64  \n",
      " 1   fecha                122484 non-null  object \n",
      " 2   franja_horaria       122484 non-null  object \n",
      " 3   tipo_delito          122484 non-null  object \n",
      " 4   subtipo_delito       6275 non-null    object \n",
      " 5   cantidad_registrada  10304 non-null   float64\n",
      " 6   comuna               121792 non-null  float64\n",
      " 7   barrio               121792 non-null  object \n",
      " 8   lat                  121792 non-null  float64\n",
      " 9   long                 121792 non-null  float64\n",
      "dtypes: float64(4), int64(1), object(5)\n",
      "memory usage: 9.3+ MB\n"
     ]
    }
   ],
   "source": [
    "data_delitos.info()"
   ]
  },
  {
   "cell_type": "markdown",
   "id": "computational-diana",
   "metadata": {},
   "source": [
    "Selecciono la información que necesito de cada Data Set.\n",
    "Primero guardo las propiedades que se encuentran en CABA."
   ]
  },
  {
   "cell_type": "code",
   "execution_count": 9,
   "id": "improved-radical",
   "metadata": {},
   "outputs": [
    {
     "data": {
      "text/plain": [
       "Belgrano           2992\n",
       "Palermo            2885\n",
       "Caballito          2273\n",
       "Villa Urquiza      1629\n",
       "Recoleta           1547\n",
       "                   ... \n",
       "Velez Sarsfield      39\n",
       "Villa Real           37\n",
       "Villa Soldati        15\n",
       "Villa Riachuelo       6\n",
       "Catalinas             4\n",
       "Name: place_name, Length: 62, dtype: int64"
      ]
     },
     "execution_count": 9,
     "metadata": {},
     "output_type": "execute_result"
    }
   ],
   "source": [
    "data_caba_mask = data.state_name == \"Capital Federal\"\n",
    "data_caba = data[data_caba_mask]\n",
    "data_caba.place_name.value_counts()"
   ]
  },
  {
   "cell_type": "code",
   "execution_count": 10,
   "id": "continuous-edmonton",
   "metadata": {},
   "outputs": [
    {
     "data": {
      "text/plain": [
       "(62,)"
      ]
     },
     "execution_count": 10,
     "metadata": {},
     "output_type": "execute_result"
    }
   ],
   "source": [
    "barrios_caba = data_caba.place_name.unique()\n",
    "barrios_caba.shape"
   ]
  },
  {
   "cell_type": "markdown",
   "id": "usual-district",
   "metadata": {},
   "source": [
    "Después, extraigo los nombres de los barrios según el DF de la Ciudad de Buenos Aires."
   ]
  },
  {
   "cell_type": "code",
   "execution_count": 11,
   "id": "focal-phoenix",
   "metadata": {},
   "outputs": [
    {
     "name": "stdout",
     "output_type": "stream",
     "text": [
      "(49,)\n",
      "['Caballito' 'Balvanera' 'Monserrat' 'Villa Gral. Mitre' 'Villa Crespo'\n",
      " 'Villa Devoto' 'Almagro' 'Paternal' 'Villa del Parque' 'Recoleta'\n",
      " 'Chacarita' 'Palermo' 'Retiro' 'San Nicolás' 'Villa Ortuzar' 'Colegiales'\n",
      " 'Villa Urquiza' 'Belgrano' 'Nuñez' 'Saavedra' 'Villa Lugano'\n",
      " 'Villa Soldati' 'Parque Avellaneda' 'Barracas' 'Mataderos'\n",
      " 'Nueva Pompeya' 'Flores' 'Parque Patricios' 'Boca' 'Parque Chacabuco'\n",
      " 'Liniers' 'Boedo' 'Floresta' 'Vélez Sársfield' 'Monte Castro' 'San Telmo'\n",
      " 'Villa Santa Rita' 'San Cristóbal' 'Parque Chas' 'Villa Riachuelo'\n",
      " 'Villa Luro' 'Villa Pueyrredón' 'Coghlan' 'Villa Real' 'Versalles'\n",
      " 'Puerto Madero' nan 'Constitución' 'Agronomía']\n"
     ]
    }
   ],
   "source": [
    "barrios_delitos = data_delitos.barrio.unique()\n",
    "print(barrios_delitos.shape)\n",
    "print(barrios_delitos)"
   ]
  },
  {
   "cell_type": "markdown",
   "id": "posted-conversation",
   "metadata": {},
   "source": [
    "<a id=\"diccionario\"></a> \n",
    "## Diccionario\n",
    "\n",
    "[volver a TOC](#toc)\n",
    "\n",
    "Determino cuáles serán los barrios para las propiedades en CABA, tomando por referencia los nombres utilizados por las \\\n",
    "bases del Gobierno de la Ciudad.\n",
    "\n",
    "Primero armo un Frame con las categorías de Properatti y la Ciudad, y vemos la cantidad de barrios únicos."
   ]
  },
  {
   "cell_type": "code",
   "execution_count": 147,
   "id": "republican-planet",
   "metadata": {},
   "outputs": [
    {
     "data": {
      "text/plain": [
       "Parque Avellaneda    2\n",
       "Mataderos            2\n",
       "Villa Pueyrredón     2\n",
       "Nuñez                2\n",
       "Villa Ortuzar        2\n",
       "                    ..\n",
       "Palermo Soho         1\n",
       "Palermo Viejo        1\n",
       "Parque Centenario    1\n",
       "Pompeya              1\n",
       "Vélez Sársfield      1\n",
       "Length: 66, dtype: int64"
      ]
     },
     "execution_count": 147,
     "metadata": {},
     "output_type": "execute_result"
    }
   ],
   "source": [
    "todos_barrios_lista = barrios_caba.tolist() + barrios_delitos.tolist()\n",
    "df_todos_barrios = pd.DataFrame(todos_barrios_lista)\n",
    "df_todos_barrios.value_counts()"
   ]
  },
  {
   "cell_type": "markdown",
   "id": "isolated-photography",
   "metadata": {},
   "source": [
    "Luego elimino los duplicados."
   ]
  },
  {
   "cell_type": "code",
   "execution_count": 13,
   "id": "greek-organic",
   "metadata": {},
   "outputs": [],
   "source": [
    "def no_duplicados (data_uno, data_dos):\n",
    "    result = []\n",
    "    for x in data_uno:\n",
    "        if x not in data_dos:\n",
    "            result += [x]\n",
    "    return(result)"
   ]
  },
  {
   "cell_type": "code",
   "execution_count": 14,
   "id": "prepared-couple",
   "metadata": {},
   "outputs": [
    {
     "name": "stdout",
     "output_type": "stream",
     "text": [
      "['Abasto', 'Barrio Norte', 'Capital Federal', 'Catalinas', 'Centro / Microcentro', 'Congreso', 'Las Cañitas', 'Once', 'Palermo Chico', 'Palermo Hollywood', 'Palermo Soho', 'Palermo Viejo', 'Parque Centenario', 'Pompeya', 'San Cristobal', 'Tribunales', 'Velez Sarsfield', 'Villa General Mitre']\n"
     ]
    }
   ],
   "source": [
    "barrios_extra = no_duplicados(barrios_caba, barrios_delitos)\n",
    "barrios_extra.sort()\n",
    "print(barrios_extra)"
   ]
  },
  {
   "cell_type": "markdown",
   "id": "restricted-northwest",
   "metadata": {},
   "source": [
    "Cotenjando los valores \"sobrantes\" con los 48 barrios que esperamos tener, armamos un diccionario."
   ]
  },
  {
   "cell_type": "code",
   "execution_count": 15,
   "id": "wireless-tutorial",
   "metadata": {},
   "outputs": [],
   "source": [
    "\n",
    "diccionario = {\"Catalinas\": \"Retiro\", \"Congreso\":\"Balvanera\", \"Las Cañitas\": \"Palermo\", \"Once\":\"Balvanera\",\\\n",
    "               \"Palermo Chico\":\"Palermo\",\"Palermo Hollywood\": \"Palermo\", \"Palermo Soho\":\"Palermo\", \"Palermo Viejo\":\"Palermo\",\\\n",
    "               \"Parque Centenario\":\"Caballito\", \"Pompeya\":\"Nueva Pompeya\", \"San Cristobal\":\"San Cristóbal\",\\\n",
    "               \"Tribunales\": \"San Nicolás\", \"Velez Sarsfield\":\"Vélez Sársfield\", \"Villa General Mitre\":\"Villa Gral. Mitre\",\\\n",
    "              \"Abasto\": \"Balvanera\", \"Barrio Norte\":\"Recoleta\", \"Centro / Microcentro\":\"San Nicolás\",\\\n",
    "               \"Constitucion\":\"Constitución\", \"San Nicolas\":\"San Nicolás\", \"Villa Pueyrredon\":\"Villa Pueyrredón\",\\\n",
    "              \"Nan\":np.NaN}"
   ]
  },
  {
   "cell_type": "markdown",
   "id": "arbitrary-polymer",
   "metadata": {},
   "source": [
    "Aplico mi diccionario sobre \"place_name\" de CABA, generando una nueva columna, \"new_place\". Los datos que no encuentre en \\\n",
    "el diccionario, van a figurar con su categoría original de \"place_name\". Esto la hacemos aplicando el método .map y lambda."
   ]
  },
  {
   "cell_type": "code",
   "execution_count": 16,
   "id": "consistent-greene",
   "metadata": {},
   "outputs": [],
   "source": [
    "data_dos = data\n",
    "data_dos[\"new_place\"] = data_dos.place_name.map(lambda x: diccionario[x] if x in diccionario.keys() else x)"
   ]
  },
  {
   "cell_type": "code",
   "execution_count": 17,
   "id": "extreme-hardware",
   "metadata": {},
   "outputs": [
    {
     "data": {
      "text/plain": [
       "Palermo              4226\n",
       "Belgrano             2992\n",
       "Recoleta             2687\n",
       "Caballito            2341\n",
       "Villa Urquiza        1629\n",
       "Flores               1354\n",
       "Villa Crespo         1331\n",
       "Capital Federal      1297\n",
       "Balvanera            1282\n",
       "San Telmo            1216\n",
       "Almagro              1165\n",
       "Boedo                 890\n",
       "Nuñez                 778\n",
       "Puerto Madero         647\n",
       "San Cristóbal         614\n",
       "Saavedra              542\n",
       "Monserrat             538\n",
       "Floresta              516\n",
       "San Nicolás           508\n",
       "Villa del Parque      488\n",
       "Villa Luro            432\n",
       "Barracas              425\n",
       "Villa Devoto          420\n",
       "Mataderos             418\n",
       "Liniers               408\n",
       "Colegiales            352\n",
       "Parque Patricios      322\n",
       "Coghlan               259\n",
       "Retiro                252\n",
       "Chacarita             227\n",
       "Boca                  223\n",
       "Constitución          211\n",
       "Villa Lugano          205\n",
       "Villa Pueyrredón      175\n",
       "Paternal              173\n",
       "Parque Chacabuco      146\n",
       "Villa Ortuzar          86\n",
       "Monte Castro           79\n",
       "Nueva Pompeya          64\n",
       "Villa Santa Rita       57\n",
       "Parque Avellaneda      56\n",
       "Versalles              55\n",
       "Villa Gral. Mitre      48\n",
       "Parque Chas            44\n",
       "Agronomía              41\n",
       "Vélez Sársfield        39\n",
       "Villa Real             37\n",
       "Villa Soldati          15\n",
       "Villa Riachuelo         6\n",
       "Name: new_place, dtype: int64"
      ]
     },
     "execution_count": 17,
     "metadata": {},
     "output_type": "execute_result"
    }
   ],
   "source": [
    "mask_dos = data_dos.state_name == \"Capital Federal\"\n",
    "data_caba = data_dos[mask_dos]\n",
    "data_caba.new_place.value_counts(dropna= False)"
   ]
  },
  {
   "cell_type": "markdown",
   "id": "expected-lawyer",
   "metadata": {},
   "source": [
    "Podemos ver algunos ejemplos de barrios que cambiaron de nombre."
   ]
  },
  {
   "cell_type": "code",
   "execution_count": 18,
   "id": "comprehensive-selling",
   "metadata": {},
   "outputs": [
    {
     "data": {
      "text/html": [
       "<div>\n",
       "<style scoped>\n",
       "    .dataframe tbody tr th:only-of-type {\n",
       "        vertical-align: middle;\n",
       "    }\n",
       "\n",
       "    .dataframe tbody tr th {\n",
       "        vertical-align: top;\n",
       "    }\n",
       "\n",
       "    .dataframe thead th {\n",
       "        text-align: right;\n",
       "    }\n",
       "</style>\n",
       "<table border=\"1\" class=\"dataframe\">\n",
       "  <thead>\n",
       "    <tr style=\"text-align: right;\">\n",
       "      <th></th>\n",
       "      <th>place_name</th>\n",
       "      <th>new_place</th>\n",
       "    </tr>\n",
       "  </thead>\n",
       "  <tbody>\n",
       "    <tr>\n",
       "      <th>116946</th>\n",
       "      <td>Once</td>\n",
       "      <td>Balvanera</td>\n",
       "    </tr>\n",
       "    <tr>\n",
       "      <th>84887</th>\n",
       "      <td>Almagro</td>\n",
       "      <td>Almagro</td>\n",
       "    </tr>\n",
       "    <tr>\n",
       "      <th>25626</th>\n",
       "      <td>Boedo</td>\n",
       "      <td>Boedo</td>\n",
       "    </tr>\n",
       "    <tr>\n",
       "      <th>1396</th>\n",
       "      <td>Almagro</td>\n",
       "      <td>Almagro</td>\n",
       "    </tr>\n",
       "    <tr>\n",
       "      <th>62543</th>\n",
       "      <td>Caballito</td>\n",
       "      <td>Caballito</td>\n",
       "    </tr>\n",
       "  </tbody>\n",
       "</table>\n",
       "</div>"
      ],
      "text/plain": [
       "       place_name  new_place\n",
       "116946       Once  Balvanera\n",
       "84887     Almagro    Almagro\n",
       "25626       Boedo      Boedo\n",
       "1396      Almagro    Almagro\n",
       "62543   Caballito  Caballito"
      ]
     },
     "execution_count": 18,
     "metadata": {},
     "output_type": "execute_result"
    }
   ],
   "source": [
    "data_dos[mask_dos][[\"place_name\", \"new_place\"]].sample(5)"
   ]
  },
  {
   "cell_type": "markdown",
   "id": "synthetic-taste",
   "metadata": {},
   "source": [
    "<a id=\"incompletos\"></a> \n",
    "## Valores incompletos\n",
    "\n",
    "[volver a TOC](#toc)\n",
    "\n",
    "Podemos ver que no todos los datos de \"new_place\" contienen un barrio. Tenemos 1.297 valores con la etiqueta \\\n",
    "\"Capital Federal\". Podemos encontrar el barrio de pertenencia de estas propiedades utilizando Geopandas, siempre\\\n",
    "y cuando tengamos su geolocalización.\n",
    "\n",
    "Veamos cuántos valores georreferenciados tenemos. "
   ]
  },
  {
   "cell_type": "code",
   "execution_count": 19,
   "id": "noted-limit",
   "metadata": {},
   "outputs": [
    {
     "data": {
      "text/plain": [
       "(602, 27)"
      ]
     },
     "execution_count": 19,
     "metadata": {},
     "output_type": "execute_result"
    }
   ],
   "source": [
    "sin_barrio_mask1 = data_dos.new_place == \"Capital Federal\"\n",
    "sin_barrio_mask2 = data_dos.lat.notnull() == True\n",
    "sin_barrio_mask = sin_barrio_mask1 & sin_barrio_mask2\n",
    "caba_sin_barrio = data_dos[sin_barrio_mask]\n",
    "caba_sin_barrio.shape"
   ]
  },
  {
   "cell_type": "markdown",
   "id": "answering-glory",
   "metadata": {},
   "source": [
    "Encontramos que 602 de los 1.297 valores sin barrio de CABA, tienen Geodatos. Los valores restantes, al final figurarán\\\n",
    "como \"NaN\"."
   ]
  },
  {
   "cell_type": "markdown",
   "id": "criminal-integer",
   "metadata": {},
   "source": [
    "<a id=\"geo_caba\"></a> \n",
    "## Geodatos CABA\n",
    "\n",
    "[volver a TOC](#toc)\n",
    "\n",
    "Vamos a usar los polígonos de los 48 barrios de CABA para ver a donde pertenecen, extrayendo el nombre del polígono \\\n",
    "correspondiente para asignarle una categoría a cada punto.\n",
    "\n",
    "Primero importamos los polígonos."
   ]
  },
  {
   "cell_type": "code",
   "execution_count": 20,
   "id": "settled-luxembourg",
   "metadata": {},
   "outputs": [],
   "source": [
    "pol_barrios = gpd.read_file(\"../Data/barrios.csv\", encoding='latin1')"
   ]
  },
  {
   "cell_type": "markdown",
   "id": "advanced-conclusion",
   "metadata": {},
   "source": [
    "Ahora transformamos la latitud y longitud de nuestro Data Frame \"caba_sin_barrio\" en puntos localizables."
   ]
  },
  {
   "cell_type": "code",
   "execution_count": 21,
   "id": "amateur-payment",
   "metadata": {},
   "outputs": [
    {
     "data": {
      "text/plain": [
       "901     POINT (-58.41171 -34.61086)\n",
       "1081    POINT (-58.46600 -34.54790)\n",
       "1498    POINT (-58.38592 -34.61445)\n",
       "1499    POINT (-58.38592 -34.61445)\n",
       "2844    POINT (-58.36832 -34.60277)\n",
       "Name: geometry, dtype: geometry"
      ]
     },
     "execution_count": 21,
     "metadata": {},
     "output_type": "execute_result"
    }
   ],
   "source": [
    "geometria_sin_barrio = gpd.points_from_xy(caba_sin_barrio.lon, caba_sin_barrio.lat)\n",
    "geo_sin_barrio = gpd.GeoDataFrame(caba_sin_barrio, geometry = geometria_sin_barrio)\n",
    "geo_sin_barrio.geometry.head()"
   ]
  },
  {
   "cell_type": "markdown",
   "id": "above-firewall",
   "metadata": {},
   "source": [
    "Podemos visualizar la distribución de los puntos sobre el mapa de la Ciudad de Buenos Aires."
   ]
  },
  {
   "cell_type": "code",
   "execution_count": 22,
   "id": "demographic-compiler",
   "metadata": {},
   "outputs": [
    {
     "data": {
      "image/png": "[encoded data removed]",
      "text/plain": [
       "<Figure size 432x288 with 1 Axes>"
      ]
     },
     "metadata": {
      "needs_background": "light"
     },
     "output_type": "display_data"
    }
   ],
   "source": [
    "fig, ax = plt.subplots()\n",
    "ax.set_aspect('equal')\n",
    "pol_barrios.plot(ax=ax, color='white', edgecolor='black')\n",
    "geo_sin_barrio.plot(ax=ax, marker='o', color='red', markersize=40)\n",
    "plt.show();"
   ]
  },
  {
   "cell_type": "markdown",
   "id": "commercial-legislature",
   "metadata": {},
   "source": [
    "El siguiente paso es buscar a qué barrio pertenece cada punto, según su ubicación en los polígonos de la Ciudad. \\\n",
    "Vamos a guardar las nuevas etiquetas en una columna llamada \"Nueva columna\"."
   ]
  },
  {
   "cell_type": "code",
   "execution_count": 23,
   "id": "oriented-breast",
   "metadata": {},
   "outputs": [
    {
     "data": {
      "text/plain": [
       "PARQUE CHACABUCO     297\n",
       "SAN NICOLAS           76\n",
       "CABALLITO             33\n",
       "PARQUE AVELLANEDA     26\n",
       "VERSALLES             24\n",
       "VILLA GRAL. MITRE     18\n",
       "VILLA SANTA RITA      16\n",
       "MONSERRAT             13\n",
       "VILLA CRESPO          13\n",
       "RECOLETA              11\n",
       "RETIRO                11\n",
       "BARRACAS               8\n",
       "ALMAGRO                6\n",
       "BELGRANO               6\n",
       "FLORESTA               5\n",
       "PALERMO                5\n",
       "VELEZ SARSFIELD        5\n",
       "BALVANERA              4\n",
       "FLORES                 4\n",
       "VILLA REAL             3\n",
       "VILLA LURO             3\n",
       "NUEVA POMPEYA          2\n",
       "VILLA DEVOTO           2\n",
       "BOEDO                  2\n",
       "CONSTITUCION           2\n",
       "PARQUE CHAS            1\n",
       "SAN CRISTOBAL          1\n",
       "NUÑEZ                  1\n",
       "VILLA PUEYRREDON       1\n",
       "MONTE CASTRO           1\n",
       "COLEGIALES             1\n",
       "PATERNAL               1\n",
       "Name: new_place, dtype: int64"
      ]
     },
     "execution_count": 23,
     "metadata": {},
     "output_type": "execute_result"
    }
   ],
   "source": [
    "geo_sin_barrio[\"new_place\"] = geo_sin_barrio.geometry.apply(lambda x: pol_barrios[pol_barrios.contains(x)][\"BARRIO\"].iloc[0])\n",
    "geo_sin_barrio.new_place.value_counts(dropna = False)"
   ]
  },
  {
   "cell_type": "markdown",
   "id": "prerequisite-kelly",
   "metadata": {},
   "source": [
    "Antes de agregar estos datos a nuestro DF general, lo convertimos de GeoDataFrame a DataFrame."
   ]
  },
  {
   "cell_type": "code",
   "execution_count": 24,
   "id": "failing-sheet",
   "metadata": {},
   "outputs": [
    {
     "data": {
      "text/plain": [
       "pandas.core.frame.DataFrame"
      ]
     },
     "execution_count": 24,
     "metadata": {},
     "output_type": "execute_result"
    }
   ],
   "source": [
    "barrios_nuevos = pd.DataFrame(geo_sin_barrio)\n",
    "type(barrios_nuevos)"
   ]
  },
  {
   "cell_type": "markdown",
   "id": "powerful-creek",
   "metadata": {},
   "source": [
    "<a id=\"unificar\"></a> \n",
    "## Unificar\n",
    "\n",
    "[volver a TOC](#toc)\n",
    "\n",
    "Ya contamos con 602 nuevas propiedades con su barrio identificado. Notamos que los nombres, a diferencia de nuestro\\\n",
    "diccionario, se encuentran en mayúscula. El siguiente paso es unir estos datos a nuestra base original, y estandarizar las\\\n",
    "categorías de los barrios.\n",
    "\n",
    "Primero vamos a reemplazar en la base nuestros nuevos datos. Para eso vamos a eliminar la columna \"geometry\" de \"barrios\\\n",
    "nuevos\". De esta forma nos coinciden las columnas en ambos DF."
   ]
  },
  {
   "cell_type": "code",
   "execution_count": 32,
   "id": "improving-worcester",
   "metadata": {},
   "outputs": [],
   "source": [
    "barrios_nuevos = barrios_nuevos.drop(columns = \"geometry\")"
   ]
  },
  {
   "cell_type": "code",
   "execution_count": 33,
   "id": "practical-reporter",
   "metadata": {},
   "outputs": [
    {
     "data": {
      "text/plain": [
       "(602, 27)"
      ]
     },
     "execution_count": 33,
     "metadata": {},
     "output_type": "execute_result"
    }
   ],
   "source": [
    "barrios_nuevos.shape"
   ]
  },
  {
   "cell_type": "code",
   "execution_count": 34,
   "id": "alone-sally",
   "metadata": {},
   "outputs": [
    {
     "data": {
      "text/plain": [
       "(121220, 27)"
      ]
     },
     "execution_count": 34,
     "metadata": {},
     "output_type": "execute_result"
    }
   ],
   "source": [
    "data_dos.shape"
   ]
  },
  {
   "cell_type": "markdown",
   "id": "uniform-throat",
   "metadata": {},
   "source": [
    "Tenemos 27 columnas en ambos DF. Primero vamos a reemplazar en \"new_place\" la categoría \"Capital Federal\" por NaN.\\\n",
    "De este modo, los valores que no hayamos definido por su localización quedarán como vacíos."
   ]
  },
  {
   "cell_type": "code",
   "execution_count": 36,
   "id": "orange-scholarship",
   "metadata": {},
   "outputs": [
    {
     "data": {
      "text/plain": [
       "1320"
      ]
     },
     "execution_count": 36,
     "metadata": {},
     "output_type": "execute_result"
    }
   ],
   "source": [
    "data_dos = data_dos.replace({\"new_place\":{\"Capital Federal\": np.NaN}})\n",
    "data_dos.new_place.isnull().sum()"
   ]
  },
  {
   "cell_type": "markdown",
   "id": "economic-amateur",
   "metadata": {},
   "source": [
    "Ahora unimos los dos frames, poniendo primero el que contiene los 602 valores nuevos. Quitamos los duplicados en\\\n",
    "base a los índices, y conservamos el primer valor encontrado. El DF resultante debe tener 121.220 filas. "
   ]
  },
  {
   "cell_type": "code",
   "execution_count": 40,
   "id": "intermediate-intelligence",
   "metadata": {},
   "outputs": [
    {
     "data": {
      "text/plain": [
       "(121822, 27)"
      ]
     },
     "execution_count": 40,
     "metadata": {},
     "output_type": "execute_result"
    }
   ],
   "source": [
    "frames = [barrios_nuevos, data_dos]\n",
    "result = pd.concat(frames)\n",
    "result.shape"
   ]
  },
  {
   "cell_type": "code",
   "execution_count": 41,
   "id": "former-retirement",
   "metadata": {},
   "outputs": [
    {
     "data": {
      "text/plain": [
       "(121220, 27)"
      ]
     },
     "execution_count": 41,
     "metadata": {},
     "output_type": "execute_result"
    }
   ],
   "source": [
    "new_frame = result.drop_duplicates(subset = [\"Unnamed: 0\"], keep=\"first\")\n",
    "new_frame.shape"
   ]
  },
  {
   "cell_type": "markdown",
   "id": "faced-opinion",
   "metadata": {},
   "source": [
    "Ordenamos las filas en base a su índice, y chequeamos cuántas categorías tenemos en \"new_place\"."
   ]
  },
  {
   "cell_type": "code",
   "execution_count": 46,
   "id": "superb-vertical",
   "metadata": {},
   "outputs": [
    {
     "data": {
      "text/plain": [
       "(121220, 27)"
      ]
     },
     "execution_count": 46,
     "metadata": {},
     "output_type": "execute_result"
    }
   ],
   "source": [
    "new_frame = new_frame.sort_values(by = \"Unnamed: 0\")\n",
    "new_frame.shape"
   ]
  },
  {
   "cell_type": "code",
   "execution_count": 48,
   "id": "enclosed-paint",
   "metadata": {},
   "outputs": [
    {
     "data": {
      "text/plain": [
       "Palermo          4226\n",
       "Belgrano         2992\n",
       "Recoleta         2687\n",
       "Caballito        2341\n",
       "Villa Urquiza    1629\n",
       "                 ... \n",
       "COLEGIALES          1\n",
       "PATERNAL            1\n",
       "PARQUE CHAS         1\n",
       "MONTE CASTRO        1\n",
       "SAN CRISTOBAL       1\n",
       "Name: new_place, Length: 80, dtype: int64"
      ]
     },
     "execution_count": 48,
     "metadata": {},
     "output_type": "execute_result"
    }
   ],
   "source": [
    "new_frame[data_caba_mask][\"new_place\"].value_counts()"
   ]
  },
  {
   "cell_type": "code",
   "execution_count": 51,
   "id": "narrative-maryland",
   "metadata": {},
   "outputs": [
    {
     "data": {
      "text/plain": [
       "(81,)"
      ]
     },
     "execution_count": 51,
     "metadata": {},
     "output_type": "execute_result"
    }
   ],
   "source": [
    "new_frame[data_caba_mask][\"new_place\"].unique().shape"
   ]
  },
  {
   "cell_type": "markdown",
   "id": "exotic-drill",
   "metadata": {},
   "source": [
    "<a id=\"recategorizar\"></a> \n",
    "## Recategorizar nuevos barrios\n",
    "\n",
    "[volver a TOC](#toc)\n",
    "\n",
    "Como vemos en el paso anterior, tenemos 81 categorías en \"new_place\". Para poder llegar a contar con 49 valores posibles\\\n",
    "en esta columna tomando las propiedades de CABA, tenemos que pasar recategorizar los nuevos barrios.\n",
    "\n",
    "Los nuevos barrios se encuentran en mayúscula. Para estandarizar, pasamos la columns \"new_place\" a string y dejemos la\\\n",
    "primera letra de cada palabra en mayúscula."
   ]
  },
  {
   "cell_type": "code",
   "execution_count": 61,
   "id": "convertible-evidence",
   "metadata": {},
   "outputs": [],
   "source": [
    "frame_recat = new_frame"
   ]
  },
  {
   "cell_type": "code",
   "execution_count": 63,
   "id": "humanitarian-nutrition",
   "metadata": {},
   "outputs": [
    {
     "data": {
      "text/plain": [
       "0             Mataderos\n",
       "1              La Plata\n",
       "2             Mataderos\n",
       "3               Liniers\n",
       "4                Centro\n",
       "              ...      \n",
       "121215         Belgrano\n",
       "121216           Beccar\n",
       "121217    Villa Urquiza\n",
       "121218      Plaza Colón\n",
       "121219              nan\n",
       "Name: new_place, Length: 121220, dtype: object"
      ]
     },
     "execution_count": 63,
     "metadata": {},
     "output_type": "execute_result"
    }
   ],
   "source": [
    "frame_recat[\"new_place\"] = frame_recat.new_place.map(lambda x: str(x))\n",
    "frame_recat.new_place"
   ]
  },
  {
   "cell_type": "code",
   "execution_count": 77,
   "id": "adjusted-separate",
   "metadata": {},
   "outputs": [
    {
     "data": {
      "text/plain": [
       "(54,)"
      ]
     },
     "execution_count": 77,
     "metadata": {},
     "output_type": "execute_result"
    }
   ],
   "source": [
    "frame_recat[\"new_place\"] = frame_recat.new_place.map(lambda x: x.title())\n",
    "frame_recat[data_caba_mask][\"new_place\"].unique().shape"
   ]
  },
  {
   "cell_type": "markdown",
   "id": "realistic-immunology",
   "metadata": {},
   "source": [
    "Nos quedamos con 54 valores. Vamos a ver qué barrios nos sobran."
   ]
  },
  {
   "cell_type": "code",
   "execution_count": 88,
   "id": "talented-announcement",
   "metadata": {},
   "outputs": [],
   "source": [
    "lista_recat = frame_recat[data_caba_mask][\"new_place\"].unique().tolist()\n",
    "lista_delitos = data_delitos.barrio.unique().tolist()"
   ]
  },
  {
   "cell_type": "code",
   "execution_count": 94,
   "id": "introductory-skiing",
   "metadata": {},
   "outputs": [
    {
     "data": {
      "text/plain": [
       "['Almagro',\n",
       " 'Balvanera',\n",
       " 'Barracas',\n",
       " 'Belgrano',\n",
       " 'Boca',\n",
       " 'Boedo',\n",
       " 'Caballito',\n",
       " 'Chacarita',\n",
       " 'Coghlan',\n",
       " 'Colegiales',\n",
       " 'Flores',\n",
       " 'Floresta',\n",
       " 'Liniers',\n",
       " 'Mataderos',\n",
       " 'Monserrat',\n",
       " 'Monte Castro',\n",
       " 'Nueva Pompeya',\n",
       " 'Nuñez',\n",
       " 'Palermo',\n",
       " 'Parque Avellaneda',\n",
       " 'Parque Chacabuco',\n",
       " 'Parque Chas',\n",
       " 'Parque Patricios',\n",
       " 'Paternal',\n",
       " 'Puerto Madero',\n",
       " 'Recoleta',\n",
       " 'Retiro',\n",
       " 'Saavedra',\n",
       " 'San Cristóbal',\n",
       " 'San Nicolás',\n",
       " 'San Telmo',\n",
       " 'Versalles',\n",
       " 'Villa Crespo',\n",
       " 'Villa Devoto',\n",
       " 'Villa Gral. Mitre',\n",
       " 'Villa Lugano',\n",
       " 'Villa Luro',\n",
       " 'Villa Ortuzar',\n",
       " 'Villa Pueyrredón',\n",
       " 'Villa Real',\n",
       " 'Villa Riachuelo',\n",
       " 'Villa Santa Rita',\n",
       " 'Villa Soldati',\n",
       " 'Villa Urquiza',\n",
       " 'Villa del Parque',\n",
       " 'Vélez Sársfield',\n",
       " nan,\n",
       " 'Constitución',\n",
       " 'Agronomía']"
      ]
     },
     "execution_count": 94,
     "metadata": {},
     "output_type": "execute_result"
    }
   ],
   "source": [
    "lista_delitos"
   ]
  },
  {
   "cell_type": "code",
   "execution_count": 87,
   "id": "industrial-scott",
   "metadata": {},
   "outputs": [
    {
     "data": {
      "text/plain": [
       "['Nan',\n",
       " 'Villa Del Parque',\n",
       " 'San Nicolas',\n",
       " 'Velez Sarsfield',\n",
       " 'Constitucion',\n",
       " 'San Cristobal',\n",
       " 'Villa Pueyrredon']"
      ]
     },
     "execution_count": 87,
     "metadata": {},
     "output_type": "execute_result"
    }
   ],
   "source": [
    "barrios_extra_dos = no_duplicados(lista_recat, lista_delitos)\n",
    "barrios_extra_dos"
   ]
  },
  {
   "cell_type": "markdown",
   "id": "loved-march",
   "metadata": {},
   "source": [
    "Modifico mi diccionario, contemplando las nuevas diferencias. Lo aplico a la columna \"new_place\" de \"frame_recat\"."
   ]
  },
  {
   "cell_type": "code",
   "execution_count": 101,
   "id": "molecular-festival",
   "metadata": {},
   "outputs": [],
   "source": [
    "diccionario_dos = {\"Catalinas\": \"Retiro\", \"Congreso\":\"Balvanera\", \"Las Cañitas\": \"Palermo\", \"Once\":\"Balvanera\",\\\n",
    "               \"Palermo Chico\":\"Palermo\",\"Palermo Hollywood\": \"Palermo\", \"Palermo Soho\":\"Palermo\", \"Palermo Viejo\":\"Palermo\",\\\n",
    "               \"Parque Centenario\":\"Caballito\", \"Pompeya\":\"Nueva Pompeya\", \"San Cristobal\":\"San Cristóbal\",\\\n",
    "               \"Tribunales\": \"San Nicolás\", \"Velez Sarsfield\":\"Vélez Sársfield\", \"Villa General Mitre\":\"Villa Gral. Mitre\",\\\n",
    "              \"Abasto\": \"Balvanera\", \"Barrio Norte\":\"Recoleta\", \"Centro / Microcentro\":\"San Nicolás\",\\\n",
    "               \"Constitucion\":\"Constitución\", \"San Nicolas\":\"San Nicolás\", \"Villa Pueyrredon\":\"Villa Pueyrredón\",\\\n",
    "              \"Nan\":np.NaN, \"nan\": np.NaN, \"Villa del Parque\":\"Villa Del Parque\"}"
   ]
  },
  {
   "cell_type": "code",
   "execution_count": 107,
   "id": "previous-bruce",
   "metadata": {},
   "outputs": [],
   "source": [
    "frame_recat[\"new_place\"] = frame_recat.new_place.map(lambda x: diccionario_dos[x] if x in diccionario.keys() else x)"
   ]
  },
  {
   "cell_type": "markdown",
   "id": "assisted-handling",
   "metadata": {},
   "source": [
    "<a id=\"verificacion\"></a> \n",
    "## Verificación\n",
    "\n",
    "[volver a TOC](#toc)\n",
    "\n",
    "Tenemos que verificar que los datos de CABA tengan 48 barrios como categorías, y que hayan queado vacíos los 695 de 1.297\\\n",
    "que no contaban con geodatos."
   ]
  },
  {
   "cell_type": "code",
   "execution_count": 108,
   "id": "peaceful-ridge",
   "metadata": {},
   "outputs": [
    {
     "data": {
      "text/plain": [
       "(49,)"
      ]
     },
     "execution_count": 108,
     "metadata": {},
     "output_type": "execute_result"
    }
   ],
   "source": [
    "frame_recat[data_caba_mask].new_place.unique().shape"
   ]
  },
  {
   "cell_type": "code",
   "execution_count": 109,
   "id": "armed-suffering",
   "metadata": {},
   "outputs": [
    {
     "data": {
      "text/plain": [
       "Palermo              4231\n",
       "Belgrano             2998\n",
       "Recoleta             2698\n",
       "Caballito            2374\n",
       "Villa Urquiza        1629\n",
       "Flores               1358\n",
       "Villa Crespo         1344\n",
       "Balvanera            1286\n",
       "San Telmo            1216\n",
       "Almagro              1171\n",
       "Boedo                 892\n",
       "Nuñez                 779\n",
       "NaN                   695\n",
       "Puerto Madero         647\n",
       "San Cristóbal         615\n",
       "San Nicolás           584\n",
       "Monserrat             551\n",
       "Saavedra              542\n",
       "Floresta              521\n",
       "Villa Del Parque      488\n",
       "Parque Chacabuco      443\n",
       "Villa Luro            435\n",
       "Barracas              433\n",
       "Villa Devoto          422\n",
       "Mataderos             418\n",
       "Liniers               408\n",
       "Colegiales            353\n",
       "Parque Patricios      322\n",
       "Retiro                263\n",
       "Coghlan               259\n",
       "Chacarita             227\n",
       "Boca                  223\n",
       "Constitución          213\n",
       "Villa Lugano          205\n",
       "Villa Pueyrredón      176\n",
       "Paternal              174\n",
       "Villa Ortuzar          86\n",
       "Parque Avellaneda      82\n",
       "Monte Castro           80\n",
       "Versalles              79\n",
       "Villa Santa Rita       73\n",
       "Nueva Pompeya          66\n",
       "Villa Gral. Mitre      66\n",
       "Parque Chas            45\n",
       "Vélez Sársfield        44\n",
       "Agronomía              41\n",
       "Villa Real             40\n",
       "Villa Soldati          15\n",
       "Villa Riachuelo         6\n",
       "Name: new_place, dtype: int64"
      ]
     },
     "execution_count": 109,
     "metadata": {},
     "output_type": "execute_result"
    }
   ],
   "source": [
    "frame_recat[data_caba_mask].new_place.value_counts(dropna = False)"
   ]
  },
  {
   "cell_type": "markdown",
   "id": "sealed-manitoba",
   "metadata": {},
   "source": [
    "Podemos comparar la columna inicial \"place_name\" con \"new_place\" para ver los cambios realizados."
   ]
  },
  {
   "cell_type": "code",
   "execution_count": 112,
   "id": "innocent-burning",
   "metadata": {},
   "outputs": [
    {
     "data": {
      "text/html": [
       "<div>\n",
       "<style scoped>\n",
       "    .dataframe tbody tr th:only-of-type {\n",
       "        vertical-align: middle;\n",
       "    }\n",
       "\n",
       "    .dataframe tbody tr th {\n",
       "        vertical-align: top;\n",
       "    }\n",
       "\n",
       "    .dataframe thead th {\n",
       "        text-align: right;\n",
       "    }\n",
       "</style>\n",
       "<table border=\"1\" class=\"dataframe\">\n",
       "  <thead>\n",
       "    <tr style=\"text-align: right;\">\n",
       "      <th></th>\n",
       "      <th>place_name</th>\n",
       "      <th>new_place</th>\n",
       "    </tr>\n",
       "  </thead>\n",
       "  <tbody>\n",
       "    <tr>\n",
       "      <th>96717</th>\n",
       "      <td>Capital Federal</td>\n",
       "      <td>NaN</td>\n",
       "    </tr>\n",
       "    <tr>\n",
       "      <th>71643</th>\n",
       "      <td>Caballito</td>\n",
       "      <td>Caballito</td>\n",
       "    </tr>\n",
       "    <tr>\n",
       "      <th>37109</th>\n",
       "      <td>San Cristobal</td>\n",
       "      <td>San Cristóbal</td>\n",
       "    </tr>\n",
       "    <tr>\n",
       "      <th>85603</th>\n",
       "      <td>Caballito</td>\n",
       "      <td>Caballito</td>\n",
       "    </tr>\n",
       "    <tr>\n",
       "      <th>77312</th>\n",
       "      <td>Floresta</td>\n",
       "      <td>Floresta</td>\n",
       "    </tr>\n",
       "    <tr>\n",
       "      <th>16380</th>\n",
       "      <td>Las Cañitas</td>\n",
       "      <td>Palermo</td>\n",
       "    </tr>\n",
       "    <tr>\n",
       "      <th>108809</th>\n",
       "      <td>Capital Federal</td>\n",
       "      <td>Almagro</td>\n",
       "    </tr>\n",
       "    <tr>\n",
       "      <th>104307</th>\n",
       "      <td>Liniers</td>\n",
       "      <td>Liniers</td>\n",
       "    </tr>\n",
       "    <tr>\n",
       "      <th>57576</th>\n",
       "      <td>Belgrano</td>\n",
       "      <td>Belgrano</td>\n",
       "    </tr>\n",
       "    <tr>\n",
       "      <th>73852</th>\n",
       "      <td>Caballito</td>\n",
       "      <td>Caballito</td>\n",
       "    </tr>\n",
       "    <tr>\n",
       "      <th>83140</th>\n",
       "      <td>Constitución</td>\n",
       "      <td>Constitución</td>\n",
       "    </tr>\n",
       "    <tr>\n",
       "      <th>43090</th>\n",
       "      <td>Villa Lugano</td>\n",
       "      <td>Villa Lugano</td>\n",
       "    </tr>\n",
       "    <tr>\n",
       "      <th>43967</th>\n",
       "      <td>Abasto</td>\n",
       "      <td>Balvanera</td>\n",
       "    </tr>\n",
       "    <tr>\n",
       "      <th>100353</th>\n",
       "      <td>Monserrat</td>\n",
       "      <td>Monserrat</td>\n",
       "    </tr>\n",
       "    <tr>\n",
       "      <th>56640</th>\n",
       "      <td>Villa Urquiza</td>\n",
       "      <td>Villa Urquiza</td>\n",
       "    </tr>\n",
       "  </tbody>\n",
       "</table>\n",
       "</div>"
      ],
      "text/plain": [
       "             place_name      new_place\n",
       "96717   Capital Federal            NaN\n",
       "71643         Caballito      Caballito\n",
       "37109     San Cristobal  San Cristóbal\n",
       "85603         Caballito      Caballito\n",
       "77312          Floresta       Floresta\n",
       "16380       Las Cañitas        Palermo\n",
       "108809  Capital Federal        Almagro\n",
       "104307          Liniers        Liniers\n",
       "57576          Belgrano       Belgrano\n",
       "73852         Caballito      Caballito\n",
       "83140      Constitución   Constitución\n",
       "43090      Villa Lugano   Villa Lugano\n",
       "43967            Abasto      Balvanera\n",
       "100353        Monserrat      Monserrat\n",
       "56640     Villa Urquiza  Villa Urquiza"
      ]
     },
     "execution_count": 112,
     "metadata": {},
     "output_type": "execute_result"
    }
   ],
   "source": [
    "frame_recat[data_caba_mask][[\"place_name\", \"new_place\"]].sample(15)"
   ]
  },
  {
   "cell_type": "markdown",
   "id": "individual-breed",
   "metadata": {},
   "source": [
    "<a id=\"geometry\"></a> \n",
    "## Columna \"geometry\"\n",
    "\n",
    "[volver a TOC](#toc)\n",
    "    \n",
    "Finalmente, vamos a generar la columna \"geometry\" para ubicar como puntos a todas las propiedades de la base Properatti.\\\n",
    "\n",
    "Empezamos convirtiendo nuestros datos a GeoDataFrame y generando la columna con los puntos."
   ]
  },
  {
   "cell_type": "code",
   "execution_count": 120,
   "id": "interracial-subject",
   "metadata": {},
   "outputs": [
    {
     "name": "stdout",
     "output_type": "stream",
     "text": [
      "(121220, 28)\n"
     ]
    },
    {
     "data": {
      "text/plain": [
       "13412     POINT (-60.66704 -32.95024)\n",
       "103318                POINT (nan nan)\n",
       "40352     POINT (-58.40619 -34.61479)\n",
       "118199                POINT (nan nan)\n",
       "101727                POINT (nan nan)\n",
       "7912      POINT (-57.54520 -38.00430)\n",
       "106163                POINT (nan nan)\n",
       "89750                 POINT (nan nan)\n",
       "Name: geometry, dtype: geometry"
      ]
     },
     "execution_count": 120,
     "metadata": {},
     "output_type": "execute_result"
    }
   ],
   "source": [
    "geometria_frame = gpd.points_from_xy(frame_recat.lon, frame_recat.lat)\n",
    "geo_frame = gpd.GeoDataFrame(frame_recat, geometry = geometria_frame)\n",
    "print(geo_frame.shape)\n",
    "geo_frame.geometry.sample(8)"
   ]
  },
  {
   "cell_type": "markdown",
   "id": "raised-filling",
   "metadata": {},
   "source": [
    "Podemos visualizar los puntos en todo el mapa de Argentina."
   ]
  },
  {
   "cell_type": "code",
   "execution_count": 127,
   "id": "statutory-nickname",
   "metadata": {},
   "outputs": [],
   "source": [
    "argentina = gpd.read_file(gpd.datasets.get_path('naturalearth_lowres'))"
   ]
  },
  {
   "cell_type": "code",
   "execution_count": 130,
   "id": "hundred-paint",
   "metadata": {},
   "outputs": [
    {
     "data": {
      "image/png": "[encoded data removed]",
      "text/plain": [
       "<Figure size 720x1080 with 1 Axes>"
      ]
     },
     "metadata": {
      "needs_background": "light"
     },
     "output_type": "display_data"
    }
   ],
   "source": [
    "ax = argentina[argentina.name == 'Argentina'].plot(color='white', edgecolor='black', figsize = (10, 15))\n",
    "\n",
    "geo_frame.plot(ax=ax, color='red')\n",
    "\n",
    "plt.show()"
   ]
  },
  {
   "cell_type": "markdown",
   "id": "worth-office",
   "metadata": {},
   "source": [
    "Por el momento, no eliminamos el punto que se encuentra fuera de Argentina, debido a que un sólo datos mal georreferenciado no nos genera inconvenientes por el momento.\n",
    "Como último paso, convertimos el GeoDataFrame a DataFrame para luego exportarlo como csv."
   ]
  },
  {
   "cell_type": "code",
   "execution_count": 121,
   "id": "refined-device",
   "metadata": {},
   "outputs": [
    {
     "data": {
      "text/plain": [
       "geopandas.geodataframe.GeoDataFrame"
      ]
     },
     "execution_count": 121,
     "metadata": {},
     "output_type": "execute_result"
    }
   ],
   "source": [
    "type(geo_frame)"
   ]
  },
  {
   "cell_type": "code",
   "execution_count": 136,
   "id": "confidential-archives",
   "metadata": {},
   "outputs": [
    {
     "name": "stdout",
     "output_type": "stream",
     "text": [
      "(121220, 28)\n"
     ]
    },
    {
     "data": {
      "text/plain": [
       "pandas.core.frame.DataFrame"
      ]
     },
     "execution_count": 136,
     "metadata": {},
     "output_type": "execute_result"
    }
   ],
   "source": [
    "final_frame = pd.DataFrame(geo_frame)\n",
    "print(final_frame.shape)\n",
    "type(final_frame)"
   ]
  },
  {
   "cell_type": "code",
   "execution_count": 139,
   "id": "alpine-joining",
   "metadata": {},
   "outputs": [
    {
     "name": "stdout",
     "output_type": "stream",
     "text": [
      "<class 'pandas.core.frame.DataFrame'>\n",
      "Int64Index: 121220 entries, 0 to 121219\n",
      "Data columns (total 28 columns):\n",
      " #   Column                      Non-Null Count   Dtype   \n",
      "---  ------                      --------------   -----   \n",
      " 0   Unnamed: 0                  121220 non-null  int64   \n",
      " 1   operation                   121220 non-null  object  \n",
      " 2   property_type               121220 non-null  object  \n",
      " 3   place_name                  121197 non-null  object  \n",
      " 4   place_with_parent_names     121220 non-null  object  \n",
      " 5   country_name                121220 non-null  object  \n",
      " 6   state_name                  121220 non-null  object  \n",
      " 7   geonames_id                 102503 non-null  float64 \n",
      " 8   lat-lon                     69670 non-null   object  \n",
      " 9   lat                         69670 non-null   float64 \n",
      " 10  lon                         69670 non-null   float64 \n",
      " 11  price                       100810 non-null  float64 \n",
      " 12  currency                    100809 non-null  object  \n",
      " 13  price_aprox_local_currency  100810 non-null  float64 \n",
      " 14  price_aprox_usd             100810 non-null  float64 \n",
      " 15  surface_total_in_m2         81892 non-null   float64 \n",
      " 16  surface_covered_in_m2       101313 non-null  float64 \n",
      " 17  price_usd_per_m2            68617 non-null   float64 \n",
      " 18  price_per_m2                87658 non-null   float64 \n",
      " 19  floor                       7899 non-null    float64 \n",
      " 20  rooms                       47390 non-null   float64 \n",
      " 21  expenses                    14262 non-null   float64 \n",
      " 22  properati_url               121220 non-null  object  \n",
      " 23  description                 121218 non-null  object  \n",
      " 24  title                       121220 non-null  object  \n",
      " 25  image_thumbnail             118108 non-null  object  \n",
      " 26  new_place                   120502 non-null  object  \n",
      " 27  geometry                    121220 non-null  geometry\n",
      "dtypes: float64(13), geometry(1), int64(1), object(13)\n",
      "memory usage: 30.9+ MB\n"
     ]
    }
   ],
   "source": [
    "final_frame.info()"
   ]
  },
  {
   "cell_type": "markdown",
   "id": "selective-sunrise",
   "metadata": {},
   "source": [
    "<a id=\"exportacion\"></a> \n",
    "## Exportación de la base\n",
    "\n",
    "[volver a TOC](#toc)\n",
    "    \n",
    "Como último paso, exportamos la base nueva. Los cambios realizados implican la recategorización de todas las propiedades de\\\n",
    "CABA en los 48 barrios oficiales, y la generación de la columna \"geometry\" con los datos georreferenciados para toda la base."
   ]
  },
  {
   "cell_type": "code",
   "execution_count": 141,
   "id": "foreign-result",
   "metadata": {},
   "outputs": [],
   "source": [
    "#final_frame.to_csv(\"final_frame.csv\")"
   ]
  }
 ],
 "metadata": {
  "kernelspec": {
   "display_name": "Python [conda env:dhdsblend2021_geopandas]",
   "language": "python",
   "name": "conda-env-dhdsblend2021_geopandas-py"
  },
  "language_info": {
   "codemirror_mode": {
    "name": "ipython",
    "version": 3
   },
   "file_extension": ".py",
   "mimetype": "text/x-python",
   "name": "python",
   "nbconvert_exporter": "python",
   "pygments_lexer": "ipython3",
   "version": "3.7.10"
  }
 },
 "nbformat": 4,
 "nbformat_minor": 5
}
